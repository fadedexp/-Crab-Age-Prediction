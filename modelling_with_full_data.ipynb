{
 "cells": [
  {
   "cell_type": "code",
   "execution_count": 1,
   "metadata": {},
   "outputs": [],
   "source": [
    "import pandas as pd\n",
    "import numpy as np\n",
    "from sklearn.linear_model import (\n",
    "    LinearRegression,\n",
    "    Ridge,\n",
    "    HuberRegressor,\n",
    "    TheilSenRegressor,\n",
    "    RANSACRegressor\n",
    ")\n",
    "from sklearn.model_selection import (\n",
    "    cross_val_score,\n",
    "    KFold,\n",
    "    train_test_split\n",
    ")\n",
    "from sklearn.metrics import mean_absolute_error as MAE\n",
    "from sklearn.ensemble import StackingRegressor\n",
    "from sklearn.pipeline import Pipeline\n",
    "from sklearn.preprocessing import (\n",
    "    RobustScaler, \n",
    "    LabelEncoder, \n",
    "    PolynomialFeatures\n",
    ")\n",
    "from sklearn.feature_selection import RFECV\n",
    "import warnings\n",
    "warnings.filterwarnings('ignore')\n"
   ]
  },
  {
   "cell_type": "code",
   "execution_count": 2,
   "metadata": {},
   "outputs": [],
   "source": [
    "df = pd.read_csv('data/train.csv')\n",
    "test = pd.read_csv('data/test.csv')\n",
    "df['Sex'] = df['Sex'].replace('Diameter', 'I')\n",
    "\n",
    "\n",
    "X = df.drop(columns=['id', 'Sex', 'Age'])\n",
    "X['Sex_num'] = df['Sex'].replace({'I':0, 'M':1, 'F':2})\n",
    "y = df['Age']\n"
   ]
  },
  {
   "cell_type": "code",
   "execution_count": 3,
   "metadata": {},
   "outputs": [],
   "source": [
    "poly_converter = PolynomialFeatures(degree=2, include_bias=False)\n",
    "poly_features = poly_converter.fit(X)\n",
    "poly_features = poly_converter.transform(X)"
   ]
  },
  {
   "cell_type": "code",
   "execution_count": 4,
   "metadata": {},
   "outputs": [
    {
     "data": {
      "text/plain": [
       "(40,\n",
       " array([1, 1, 1, 1, 3, 1, 1, 1, 1, 1, 1, 1, 1, 1, 1, 1, 1, 1, 1, 1, 1, 1,\n",
       "        1, 1, 1, 1, 1, 1, 1, 4, 1, 1, 1, 5, 1, 1, 1, 1, 1, 2, 1, 1, 1, 1]),\n",
       " array([ True,  True,  True,  True, False,  True,  True,  True,  True,\n",
       "         True,  True,  True,  True,  True,  True,  True,  True,  True,\n",
       "         True,  True,  True,  True,  True,  True,  True,  True,  True,\n",
       "         True,  True, False,  True,  True,  True, False,  True,  True,\n",
       "         True,  True,  True, False,  True,  True,  True,  True]))"
      ]
     },
     "execution_count": 4,
     "metadata": {},
     "output_type": "execute_result"
    }
   ],
   "source": [
    "model_r = Ridge()\n",
    "\n",
    "kf = KFold(n_splits=5, shuffle=True, random_state=0)\n",
    "\n",
    "rfecv = RFECV(estimator=model_r, step=1, cv=kf, scoring='neg_mean_absolute_error', n_jobs=8)\n",
    "\n",
    "rfecv.fit(poly_features, y)\n",
    "\n",
    "optimal_features = rfecv.n_features_\n",
    "feature_ranking = rfecv.ranking_\n",
    "important_features = rfecv.support_\n",
    "\n",
    "optimal_features, feature_ranking, important_features"
   ]
  },
  {
   "cell_type": "code",
   "execution_count": 5,
   "metadata": {},
   "outputs": [
    {
     "name": "stdout",
     "output_type": "stream",
     "text": [
      "(15000, 44)\n"
     ]
    },
    {
     "data": {
      "text/plain": [
       "(15000, 40)"
      ]
     },
     "execution_count": 5,
     "metadata": {},
     "output_type": "execute_result"
    }
   ],
   "source": [
    "print(poly_features.shape)\n",
    "\n",
    "poly_df = pd.DataFrame(poly_features)\n",
    "poly_features_rfe = poly_df.loc[:, important_features]\n",
    "\n",
    "poly_features_rfe.shape"
   ]
  },
  {
   "cell_type": "code",
   "execution_count": 6,
   "metadata": {},
   "outputs": [
    {
     "data": {
      "text/plain": [
       "(10000, 40)"
      ]
     },
     "execution_count": 6,
     "metadata": {},
     "output_type": "execute_result"
    }
   ],
   "source": [
    "test_for = test.drop(columns=['id', 'Sex'])\n",
    "test_for['Sex_num'] = test['Sex'].replace({'I':0, 'M':1, 'F':2})\n",
    "test_for\n",
    "\n",
    "poly_converter2 = PolynomialFeatures(degree=2, include_bias=False)\n",
    "poly_features2 = poly_converter2.fit(test_for)\n",
    "poly_features2 = poly_converter2.transform(test_for)\n",
    "\n",
    "poly2_df = pd.DataFrame(poly_features2)\n",
    "poly_features2_rfe = poly2_df.loc[:, important_features]\n",
    "poly_features2_rfe.shape"
   ]
  },
  {
   "cell_type": "code",
   "execution_count": 7,
   "metadata": {},
   "outputs": [],
   "source": [
    "linear_pipeline = Pipeline([\n",
    "    ('scaler', RobustScaler()),\n",
    "    ('model', LinearRegression())\n",
    "])\n",
    "ridge_pipeline = Pipeline([\n",
    "    ('scaler', RobustScaler()),\n",
    "    ('model', Ridge())\n",
    "])\n",
    "huber_pipeline = Pipeline([\n",
    "    ('scaler', RobustScaler()),\n",
    "    ('model', HuberRegressor())\n",
    "])\n",
    "theilsen_pipeline = Pipeline([\n",
    "    ('scaler', RobustScaler()),\n",
    "    ('model', TheilSenRegressor())\n",
    "])\n",
    "ransac_pipeline = Pipeline([\n",
    "    ('scaler', RobustScaler()),\n",
    "    ('model', RANSACRegressor())\n",
    "])"
   ]
  },
  {
   "cell_type": "code",
   "execution_count": 8,
   "metadata": {},
   "outputs": [],
   "source": [
    "meta_model = HuberRegressor()\n",
    "stacking_regressor = StackingRegressor(estimators=[\n",
    "    ('linear', linear_pipeline),\n",
    "    ('ridge', ridge_pipeline),\n",
    "    ('huber', huber_pipeline),\n",
    "    ('theilsen', theilsen_pipeline),\n",
    "    ('ransac', ransac_pipeline)\n",
    "    ],\n",
    "    final_estimator=meta_model,\n",
    "    cv=5\n",
    ")\n",
    "stacking_regressor.fit(poly_features_rfe, y)\n",
    "\n",
    "y_stacking = stacking_regressor.predict(poly_features2_rfe)"
   ]
  },
  {
   "cell_type": "code",
   "execution_count": 9,
   "metadata": {},
   "outputs": [
    {
     "data": {
      "text/plain": [
       "96252.0"
      ]
     },
     "execution_count": 9,
     "metadata": {},
     "output_type": "execute_result"
    }
   ],
   "source": [
    "y_stacking.round().sum()"
   ]
  },
  {
   "cell_type": "code",
   "execution_count": 10,
   "metadata": {},
   "outputs": [],
   "source": [
    "csv_data = pd.DataFrame({'id':test['id'], 'age':(y_stacking - 0.1).round()})\n",
    "csv_data.to_csv('final_test_wfd.csv', index=False)"
   ]
  }
 ],
 "metadata": {
  "kernelspec": {
   "display_name": "Python 3",
   "language": "python",
   "name": "python3"
  },
  "language_info": {
   "codemirror_mode": {
    "name": "ipython",
    "version": 3
   },
   "file_extension": ".py",
   "mimetype": "text/x-python",
   "name": "python",
   "nbconvert_exporter": "python",
   "pygments_lexer": "ipython3",
   "version": "3.12.2"
  }
 },
 "nbformat": 4,
 "nbformat_minor": 2
}
